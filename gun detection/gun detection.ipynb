{
 "cells": [
  {
   "cell_type": "markdown",
   "id": "3164987c-2cca-4c53-ab48-89069f856e09",
   "metadata": {},
   "source": [
    "## gun detection"
   ]
  },
  {
   "cell_type": "code",
   "execution_count": 4,
   "id": "e26b2b24-41fc-43e0-ba90-f64ad042fc39",
   "metadata": {},
   "outputs": [],
   "source": [
    "import numpy as np\n",
    "import cv2\n",
    "import datetime\n",
    "import imutils"
   ]
  },
  {
   "cell_type": "code",
   "execution_count": 5,
   "id": "4982be90-22ed-4786-8686-82586971fedf",
   "metadata": {},
   "outputs": [
    {
     "name": "stdout",
     "output_type": "stream",
     "text": [
      "Collecting imutils\n",
      "  Downloading imutils-0.5.4.tar.gz (17 kB)\n",
      "  Preparing metadata (setup.py): started\n",
      "  Preparing metadata (setup.py): finished with status 'done'\n",
      "Building wheels for collected packages: imutils\n",
      "  Building wheel for imutils (setup.py): started\n",
      "  Building wheel for imutils (setup.py): finished with status 'done'\n",
      "  Created wheel for imutils: filename=imutils-0.5.4-py3-none-any.whl size=25855 sha256=37c96b3cb59239abaf2a6f69cf0fc67398a8d69c816adc25a0089675c65dfda8\n",
      "  Stored in directory: c:\\users\\nsubh\\appdata\\local\\pip\\cache\\wheels\\5b\\76\\96\\ad0c321506837bef578cf3008df3916c23018435a355d9f6b1\n",
      "Successfully built imutils\n",
      "Installing collected packages: imutils\n",
      "Successfully installed imutils-0.5.4\n"
     ]
    }
   ],
   "source": [
    "!pip install imutils"
   ]
  },
  {
   "cell_type": "code",
   "execution_count": 6,
   "id": "aaf61a81-c1a0-46bc-8110-3260ab6b0bd3",
   "metadata": {
    "scrolled": true
   },
   "outputs": [
    {
     "name": "stdout",
     "output_type": "stream",
     "text": [
      "gen detected\n"
     ]
    },
    {
     "ename": "AttributeError",
     "evalue": "module 'cv2' has no attribute 'destroyAllwindows'",
     "output_type": "error",
     "traceback": [
      "\u001b[1;31m---------------------------------------------------------------------------\u001b[0m",
      "\u001b[1;31mAttributeError\u001b[0m                            Traceback (most recent call last)",
      "Cell \u001b[1;32mIn[6], line 40\u001b[0m\n\u001b[0;32m     37\u001b[0m     \u001b[38;5;28mprint\u001b[39m(\u001b[38;5;124m\"\u001b[39m\u001b[38;5;124mguns didn\u001b[39m\u001b[38;5;124m'\u001b[39m\u001b[38;5;124mt detected\u001b[39m\u001b[38;5;124m\"\u001b[39m)\n\u001b[0;32m     39\u001b[0m camera\u001b[38;5;241m.\u001b[39mrelease()\n\u001b[1;32m---> 40\u001b[0m \u001b[43mcv2\u001b[49m\u001b[38;5;241;43m.\u001b[39;49m\u001b[43mdestroyAllwindows\u001b[49m()\n",
      "\u001b[1;31mAttributeError\u001b[0m: module 'cv2' has no attribute 'destroyAllwindows'"
     ]
    }
   ],
   "source": [
    "gun_cascade = cv2.CascadeClassifier('cascade.xml')\n",
    "camera = cv2.VideoCapture(0)\n",
    "\n",
    "firstFrame = None\n",
    "gun_exist = None\n",
    "\n",
    "while True:\n",
    "\n",
    "    ret, frame = camera.read()\n",
    "    frame = imutils.resize(frame,width=500)\n",
    "    gray =   cv2.cvtColor(frame, cv2.COLOR_BGR2GRAY)\n",
    "    gun = gun_cascade.detectMultiScale(gray,1.3,5,\n",
    "                                      minSize=(100,100))\n",
    "    if len(gun) > 0:\n",
    "        gun_exist = True\n",
    "\n",
    "    for(x,y,w,h) in gun:\n",
    "        frame = cv2.rectangle(frame,(x,y),(x+w,y+h),(255,0,0),2)\n",
    "\n",
    "        roi_gray = gray[y: y + h , x: x + w]\n",
    "        roi_color = frame[y: y + h , x: x + w]\n",
    "\n",
    "    if firstFrame is None:\n",
    "        firstFrame = gray\n",
    "        continue\n",
    "\n",
    "\n",
    "    cv2.imshow(\"Security feed\" , frame)\n",
    "    key = cv2.waitKey(1) & 0xFF\n",
    "\n",
    "    if key == ord('q'):\n",
    "        break\n",
    "\n",
    "if gun_exist:\n",
    "    print(\"gen detected\")\n",
    "else:\n",
    "    print(\"guns didn't detected\")\n",
    "\n",
    "camera.release()\n",
    "cv2.destroyAllWindows()"
   ]
  },
  {
   "cell_type": "code",
   "execution_count": 8,
   "id": "11db729d-1c35-45db-ad21-c381bbbc2c4f",
   "metadata": {},
   "outputs": [],
   "source": []
  },
  {
   "cell_type": "code",
   "execution_count": null,
   "id": "fdc204ec-ef46-4610-a7b9-4ca44ce43e09",
   "metadata": {},
   "outputs": [],
   "source": []
  }
 ],
 "metadata": {
  "kernelspec": {
   "display_name": "Python 3 (ipykernel)",
   "language": "python",
   "name": "python3"
  },
  "language_info": {
   "codemirror_mode": {
    "name": "ipython",
    "version": 3
   },
   "file_extension": ".py",
   "mimetype": "text/x-python",
   "name": "python",
   "nbconvert_exporter": "python",
   "pygments_lexer": "ipython3",
   "version": "3.12.3"
  }
 },
 "nbformat": 4,
 "nbformat_minor": 5
}
